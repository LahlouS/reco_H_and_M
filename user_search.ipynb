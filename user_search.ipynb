{
 "cells": [
  {
   "cell_type": "markdown",
   "metadata": {},
   "source": [
    "#### Finding some interesting user to test my ALS recommender"
   ]
  },
  {
   "cell_type": "code",
   "execution_count": 15,
   "metadata": {},
   "outputs": [],
   "source": [
    "import pandas as pd\n"
   ]
  },
  {
   "cell_type": "code",
   "execution_count": 16,
   "metadata": {},
   "outputs": [],
   "source": [
    "articles_df = pd.read_csv('dataset/datas/articles.csv')\n",
    "customer_df = pd.read_csv('dataset/datas/customers.csv')\n",
    "transaction_df = pd.read_csv('dataset/datas/transactions_train.csv')"
   ]
  },
  {
   "cell_type": "code",
   "execution_count": 17,
   "metadata": {},
   "outputs": [
    {
     "data": {
      "text/html": [
       "<div>\n",
       "<style scoped>\n",
       "    .dataframe tbody tr th:only-of-type {\n",
       "        vertical-align: middle;\n",
       "    }\n",
       "\n",
       "    .dataframe tbody tr th {\n",
       "        vertical-align: top;\n",
       "    }\n",
       "\n",
       "    .dataframe thead th {\n",
       "        text-align: right;\n",
       "    }\n",
       "</style>\n",
       "<table border=\"1\" class=\"dataframe\">\n",
       "  <thead>\n",
       "    <tr style=\"text-align: right;\">\n",
       "      <th></th>\n",
       "      <th>index_name</th>\n",
       "      <th>interaction_count</th>\n",
       "    </tr>\n",
       "  </thead>\n",
       "  <tbody>\n",
       "    <tr>\n",
       "      <th>0</th>\n",
       "      <td>Baby Sizes 50-98</td>\n",
       "      <td>8875</td>\n",
       "    </tr>\n",
       "    <tr>\n",
       "      <th>1</th>\n",
       "      <td>Children Accessories, Swimwear</td>\n",
       "      <td>4615</td>\n",
       "    </tr>\n",
       "    <tr>\n",
       "      <th>2</th>\n",
       "      <td>Children Sizes 134-170</td>\n",
       "      <td>9214</td>\n",
       "    </tr>\n",
       "    <tr>\n",
       "      <th>3</th>\n",
       "      <td>Children Sizes 92-140</td>\n",
       "      <td>12007</td>\n",
       "    </tr>\n",
       "    <tr>\n",
       "      <th>4</th>\n",
       "      <td>Divided</td>\n",
       "      <td>15149</td>\n",
       "    </tr>\n",
       "    <tr>\n",
       "      <th>5</th>\n",
       "      <td>Ladies Accessories</td>\n",
       "      <td>6961</td>\n",
       "    </tr>\n",
       "    <tr>\n",
       "      <th>6</th>\n",
       "      <td>Ladieswear</td>\n",
       "      <td>26001</td>\n",
       "    </tr>\n",
       "    <tr>\n",
       "      <th>7</th>\n",
       "      <td>Lingeries/Tights</td>\n",
       "      <td>6775</td>\n",
       "    </tr>\n",
       "    <tr>\n",
       "      <th>8</th>\n",
       "      <td>Menswear</td>\n",
       "      <td>12553</td>\n",
       "    </tr>\n",
       "    <tr>\n",
       "      <th>9</th>\n",
       "      <td>Sport</td>\n",
       "      <td>3392</td>\n",
       "    </tr>\n",
       "  </tbody>\n",
       "</table>\n",
       "</div>"
      ],
      "text/plain": [
       "                       index_name  interaction_count\n",
       "0                Baby Sizes 50-98               8875\n",
       "1  Children Accessories, Swimwear               4615\n",
       "2          Children Sizes 134-170               9214\n",
       "3           Children Sizes 92-140              12007\n",
       "4                         Divided              15149\n",
       "5              Ladies Accessories               6961\n",
       "6                      Ladieswear              26001\n",
       "7                Lingeries/Tights               6775\n",
       "8                        Menswear              12553\n",
       "9                           Sport               3392"
      ]
     },
     "execution_count": 17,
     "metadata": {},
     "output_type": "execute_result"
    }
   ],
   "source": [
    "articles_df.groupby('index_name').size().reset_index(name='interaction_count')"
   ]
  },
  {
   "cell_type": "code",
   "execution_count": 18,
   "metadata": {},
   "outputs": [],
   "source": [
    "menswear = articles_df[articles_df['index_name'] == 'Menswear']\n",
    "menswear_id_list = menswear['article_id']"
   ]
  },
  {
   "cell_type": "code",
   "execution_count": 19,
   "metadata": {},
   "outputs": [],
   "source": [
    "menswear_transaction = transaction_df[transaction_df['article_id'].isin(menswear_id_list)]"
   ]
  },
  {
   "cell_type": "code",
   "execution_count": 20,
   "metadata": {},
   "outputs": [
    {
     "data": {
      "text/html": [
       "<div>\n",
       "<style scoped>\n",
       "    .dataframe tbody tr th:only-of-type {\n",
       "        vertical-align: middle;\n",
       "    }\n",
       "\n",
       "    .dataframe tbody tr th {\n",
       "        vertical-align: top;\n",
       "    }\n",
       "\n",
       "    .dataframe thead th {\n",
       "        text-align: right;\n",
       "    }\n",
       "</style>\n",
       "<table border=\"1\" class=\"dataframe\">\n",
       "  <thead>\n",
       "    <tr style=\"text-align: right;\">\n",
       "      <th></th>\n",
       "      <th>t_dat</th>\n",
       "      <th>customer_id</th>\n",
       "      <th>article_id</th>\n",
       "      <th>price</th>\n",
       "      <th>sales_channel_id</th>\n",
       "    </tr>\n",
       "  </thead>\n",
       "  <tbody>\n",
       "    <tr>\n",
       "      <th>44</th>\n",
       "      <td>2018-09-20</td>\n",
       "      <td>001127bffdda108579e6cb16080440e89bf1250a776c6e...</td>\n",
       "      <td>397068015</td>\n",
       "      <td>0.033881</td>\n",
       "      <td>1</td>\n",
       "    </tr>\n",
       "    <tr>\n",
       "      <th>83</th>\n",
       "      <td>2018-09-20</td>\n",
       "      <td>005c9fb2ba6c49b2098a662f64a9124ef95cbec5fcf4eb...</td>\n",
       "      <td>660150001</td>\n",
       "      <td>0.005068</td>\n",
       "      <td>2</td>\n",
       "    </tr>\n",
       "    <tr>\n",
       "      <th>96</th>\n",
       "      <td>2018-09-20</td>\n",
       "      <td>0077ba345ef6aa8781802107df25bbb8a14fdcd04130c3...</td>\n",
       "      <td>534795002</td>\n",
       "      <td>0.011864</td>\n",
       "      <td>1</td>\n",
       "    </tr>\n",
       "    <tr>\n",
       "      <th>156</th>\n",
       "      <td>2018-09-20</td>\n",
       "      <td>00cf4505ba84c01f03c47829352054483acb59a9492ed0...</td>\n",
       "      <td>564358023</td>\n",
       "      <td>0.033881</td>\n",
       "      <td>2</td>\n",
       "    </tr>\n",
       "    <tr>\n",
       "      <th>157</th>\n",
       "      <td>2018-09-20</td>\n",
       "      <td>00cf4505ba84c01f03c47829352054483acb59a9492ed0...</td>\n",
       "      <td>564358021</td>\n",
       "      <td>0.033881</td>\n",
       "      <td>2</td>\n",
       "    </tr>\n",
       "    <tr>\n",
       "      <th>...</th>\n",
       "      <td>...</td>\n",
       "      <td>...</td>\n",
       "      <td>...</td>\n",
       "      <td>...</td>\n",
       "      <td>...</td>\n",
       "    </tr>\n",
       "    <tr>\n",
       "      <th>31788044</th>\n",
       "      <td>2020-09-22</td>\n",
       "      <td>fd77243cd94d48f4bb06d5b9b717ed9dea16573b6f8bff...</td>\n",
       "      <td>715828017</td>\n",
       "      <td>0.033881</td>\n",
       "      <td>1</td>\n",
       "    </tr>\n",
       "    <tr>\n",
       "      <th>31788172</th>\n",
       "      <td>2020-09-22</td>\n",
       "      <td>fe9c516dacd05eafc0708ca690097448a72e11c57207f1...</td>\n",
       "      <td>795243003</td>\n",
       "      <td>0.025407</td>\n",
       "      <td>1</td>\n",
       "    </tr>\n",
       "    <tr>\n",
       "      <th>31788173</th>\n",
       "      <td>2020-09-22</td>\n",
       "      <td>fe9c516dacd05eafc0708ca690097448a72e11c57207f1...</td>\n",
       "      <td>685813043</td>\n",
       "      <td>0.016932</td>\n",
       "      <td>1</td>\n",
       "    </tr>\n",
       "    <tr>\n",
       "      <th>31788272</th>\n",
       "      <td>2020-09-22</td>\n",
       "      <td>ff594ca1a16b0a446b144953aac8dcc3b48803ea605c03...</td>\n",
       "      <td>685813043</td>\n",
       "      <td>0.016932</td>\n",
       "      <td>1</td>\n",
       "    </tr>\n",
       "    <tr>\n",
       "      <th>31788274</th>\n",
       "      <td>2020-09-22</td>\n",
       "      <td>ff594ca1a16b0a446b144953aac8dcc3b48803ea605c03...</td>\n",
       "      <td>685813039</td>\n",
       "      <td>0.016932</td>\n",
       "      <td>1</td>\n",
       "    </tr>\n",
       "  </tbody>\n",
       "</table>\n",
       "<p>1771053 rows × 5 columns</p>\n",
       "</div>"
      ],
      "text/plain": [
       "               t_dat                                        customer_id  \\\n",
       "44        2018-09-20  001127bffdda108579e6cb16080440e89bf1250a776c6e...   \n",
       "83        2018-09-20  005c9fb2ba6c49b2098a662f64a9124ef95cbec5fcf4eb...   \n",
       "96        2018-09-20  0077ba345ef6aa8781802107df25bbb8a14fdcd04130c3...   \n",
       "156       2018-09-20  00cf4505ba84c01f03c47829352054483acb59a9492ed0...   \n",
       "157       2018-09-20  00cf4505ba84c01f03c47829352054483acb59a9492ed0...   \n",
       "...              ...                                                ...   \n",
       "31788044  2020-09-22  fd77243cd94d48f4bb06d5b9b717ed9dea16573b6f8bff...   \n",
       "31788172  2020-09-22  fe9c516dacd05eafc0708ca690097448a72e11c57207f1...   \n",
       "31788173  2020-09-22  fe9c516dacd05eafc0708ca690097448a72e11c57207f1...   \n",
       "31788272  2020-09-22  ff594ca1a16b0a446b144953aac8dcc3b48803ea605c03...   \n",
       "31788274  2020-09-22  ff594ca1a16b0a446b144953aac8dcc3b48803ea605c03...   \n",
       "\n",
       "          article_id     price  sales_channel_id  \n",
       "44         397068015  0.033881                 1  \n",
       "83         660150001  0.005068                 2  \n",
       "96         534795002  0.011864                 1  \n",
       "156        564358023  0.033881                 2  \n",
       "157        564358021  0.033881                 2  \n",
       "...              ...       ...               ...  \n",
       "31788044   715828017  0.033881                 1  \n",
       "31788172   795243003  0.025407                 1  \n",
       "31788173   685813043  0.016932                 1  \n",
       "31788272   685813043  0.016932                 1  \n",
       "31788274   685813039  0.016932                 1  \n",
       "\n",
       "[1771053 rows x 5 columns]"
      ]
     },
     "execution_count": 20,
     "metadata": {},
     "output_type": "execute_result"
    }
   ],
   "source": [
    "menswear_transaction"
   ]
  },
  {
   "cell_type": "code",
   "execution_count": 21,
   "metadata": {},
   "outputs": [],
   "source": [
    "top_menswear_customer = menswear_transaction.groupby('customer_id').size().reset_index(name='ntransac').sort_values(by='ntransac', ascending=False)"
   ]
  },
  {
   "cell_type": "code",
   "execution_count": 30,
   "metadata": {},
   "outputs": [
    {
     "name": "stdout",
     "output_type": "stream",
     "text": [
      "84eba3a874e7b5660ee2803fe64ce82954a2beb56e39ed9a561e01889b9b82b8\n"
     ]
    }
   ],
   "source": [
    "print(top_menswear_customer.loc[176310]['customer_id'])"
   ]
  },
  {
   "cell_type": "code",
   "execution_count": null,
   "metadata": {},
   "outputs": [],
   "source": []
  }
 ],
 "metadata": {
  "kernelspec": {
   "display_name": "genAI",
   "language": "python",
   "name": "python3"
  },
  "language_info": {
   "codemirror_mode": {
    "name": "ipython",
    "version": 3
   },
   "file_extension": ".py",
   "mimetype": "text/x-python",
   "name": "python",
   "nbconvert_exporter": "python",
   "pygments_lexer": "ipython3",
   "version": "3.12.2"
  }
 },
 "nbformat": 4,
 "nbformat_minor": 2
}

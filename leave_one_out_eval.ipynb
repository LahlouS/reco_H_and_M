{
 "cells": [
  {
   "cell_type": "code",
   "execution_count": 2,
   "metadata": {},
   "outputs": [
    {
     "name": "stderr",
     "output_type": "stream",
     "text": [
      "/home/slahlou/anaconda3/envs/genAI/lib/python3.12/site-packages/implicit/gpu/__init__.py:13: UserWarning: CUDA extension is built, but disabling GPU support because of 'Cuda Error: CUDA driver version is insufficient for CUDA runtime version (/home/conda/feedstock_root/build_artifacts/implicit_1724419594932/work/./implicit/gpu/utils.h:71)'\n",
      "  warnings.warn(\n"
     ]
    }
   ],
   "source": [
    "from scipy.sparse import csr_matrix\n",
    "from scipy.sparse import save_npz\n",
    "from implicit.als import AlternatingLeastSquares\n",
    "from scipy.sparse import load_npz\n",
    "from sklearn.preprocessing import LabelEncoder\n",
    "import pandas as pd\n",
    "import json"
   ]
  },
  {
   "cell_type": "code",
   "execution_count": 3,
   "metadata": {},
   "outputs": [],
   "source": [
    "transaction = pd.read_csv(\"/home/slahlou/Documents/recoGnomon/dataset/datas/transactions_train.csv\")\n"
   ]
  },
  {
   "cell_type": "code",
   "execution_count": 4,
   "metadata": {},
   "outputs": [
    {
     "data": {
      "text/html": [
       "<div>\n",
       "<style scoped>\n",
       "    .dataframe tbody tr th:only-of-type {\n",
       "        vertical-align: middle;\n",
       "    }\n",
       "\n",
       "    .dataframe tbody tr th {\n",
       "        vertical-align: top;\n",
       "    }\n",
       "\n",
       "    .dataframe thead th {\n",
       "        text-align: right;\n",
       "    }\n",
       "</style>\n",
       "<table border=\"1\" class=\"dataframe\">\n",
       "  <thead>\n",
       "    <tr style=\"text-align: right;\">\n",
       "      <th></th>\n",
       "      <th>t_dat</th>\n",
       "      <th>customer_id</th>\n",
       "      <th>article_id</th>\n",
       "      <th>price</th>\n",
       "      <th>sales_channel_id</th>\n",
       "    </tr>\n",
       "  </thead>\n",
       "  <tbody>\n",
       "    <tr>\n",
       "      <th>0</th>\n",
       "      <td>2018-09-20</td>\n",
       "      <td>000058a12d5b43e67d225668fa1f8d618c13dc232df0ca...</td>\n",
       "      <td>663713001</td>\n",
       "      <td>0.050831</td>\n",
       "      <td>2</td>\n",
       "    </tr>\n",
       "    <tr>\n",
       "      <th>1</th>\n",
       "      <td>2018-09-20</td>\n",
       "      <td>000058a12d5b43e67d225668fa1f8d618c13dc232df0ca...</td>\n",
       "      <td>541518023</td>\n",
       "      <td>0.030492</td>\n",
       "      <td>2</td>\n",
       "    </tr>\n",
       "    <tr>\n",
       "      <th>2</th>\n",
       "      <td>2018-09-20</td>\n",
       "      <td>00007d2de826758b65a93dd24ce629ed66842531df6699...</td>\n",
       "      <td>505221004</td>\n",
       "      <td>0.015237</td>\n",
       "      <td>2</td>\n",
       "    </tr>\n",
       "    <tr>\n",
       "      <th>3</th>\n",
       "      <td>2018-09-20</td>\n",
       "      <td>00007d2de826758b65a93dd24ce629ed66842531df6699...</td>\n",
       "      <td>685687003</td>\n",
       "      <td>0.016932</td>\n",
       "      <td>2</td>\n",
       "    </tr>\n",
       "    <tr>\n",
       "      <th>4</th>\n",
       "      <td>2018-09-20</td>\n",
       "      <td>00007d2de826758b65a93dd24ce629ed66842531df6699...</td>\n",
       "      <td>685687004</td>\n",
       "      <td>0.016932</td>\n",
       "      <td>2</td>\n",
       "    </tr>\n",
       "  </tbody>\n",
       "</table>\n",
       "</div>"
      ],
      "text/plain": [
       "        t_dat                                        customer_id  article_id  \\\n",
       "0  2018-09-20  000058a12d5b43e67d225668fa1f8d618c13dc232df0ca...   663713001   \n",
       "1  2018-09-20  000058a12d5b43e67d225668fa1f8d618c13dc232df0ca...   541518023   \n",
       "2  2018-09-20  00007d2de826758b65a93dd24ce629ed66842531df6699...   505221004   \n",
       "3  2018-09-20  00007d2de826758b65a93dd24ce629ed66842531df6699...   685687003   \n",
       "4  2018-09-20  00007d2de826758b65a93dd24ce629ed66842531df6699...   685687004   \n",
       "\n",
       "      price  sales_channel_id  \n",
       "0  0.050831                 2  \n",
       "1  0.030492                 2  \n",
       "2  0.015237                 2  \n",
       "3  0.016932                 2  \n",
       "4  0.016932                 2  "
      ]
     },
     "execution_count": 4,
     "metadata": {},
     "output_type": "execute_result"
    }
   ],
   "source": [
    "transaction.head()"
   ]
  },
  {
   "cell_type": "code",
   "execution_count": 5,
   "metadata": {},
   "outputs": [],
   "source": [
    "def get_interaction_matrix(transaction):\n",
    "\tinteraction_counts = transaction.groupby(['customer_id', 'article_id']).size().reset_index(name='interaction_count')\n",
    "\tuser_encoder = LabelEncoder()\n",
    "\titem_encoder = LabelEncoder()\n",
    "\n",
    "\tinteraction_counts['user_idx'] = user_encoder.fit_transform(interaction_counts['customer_id'])\n",
    "\tinteraction_counts['item_idx'] = item_encoder.fit_transform(interaction_counts['article_id'])\n",
    "\n",
    "\t# Step 3: Create sparse matrix\n",
    "\tinteraction_matrix = csr_matrix((\n",
    "\t\tinteraction_counts['interaction_count'],\n",
    "\t\t(interaction_counts['user_idx'], interaction_counts['item_idx'])\n",
    "\t))\n",
    "\n",
    "\tuser_id_map = dict(zip(interaction_counts['user_idx'], interaction_counts['customer_id']))\n",
    "\titem_id_map = dict(zip(interaction_counts['item_idx'], interaction_counts['article_id']))\n",
    "\n",
    "\treturn {\n",
    "\t\t\"interaction_matrix\": interaction_matrix,\n",
    "\t\t\"user_id_map\": user_id_map,\n",
    "\t\t\"item_id_map\": item_id_map\n",
    "\t\t }\n",
    "\n",
    "def save_interaction_matrix(filepath, interaction_matrix):\n",
    "\tsave_npz(filepath, interaction_matrix)\n",
    "\n",
    "def json_save(filepath, id_map):\n",
    "\tid_map_json = {str(k): v for k, v in id_map.items()}\n",
    "\twith open(filepath, \"w\") as f:\n",
    "\t\tjson.dump(id_map_json, f)"
   ]
  },
  {
   "cell_type": "code",
   "execution_count": 6,
   "metadata": {},
   "outputs": [],
   "source": [
    "def leave_one_out_split(df):\n",
    "\tdf = df.sort_values(by=['customer_id', 't_dat'])\n",
    "\ttest_rows = df.groupby('customer_id').tail(1)\n",
    "\ttrain_rows = df.drop(index=test_rows.index)\n",
    "\treturn train_rows, test_rows"
   ]
  },
  {
   "cell_type": "code",
   "execution_count": 7,
   "metadata": {},
   "outputs": [],
   "source": [
    "train_rows, test_rows = leave_one_out_split(transaction)"
   ]
  },
  {
   "cell_type": "code",
   "execution_count": 8,
   "metadata": {},
   "outputs": [
    {
     "data": {
      "text/html": [
       "<div>\n",
       "<style scoped>\n",
       "    .dataframe tbody tr th:only-of-type {\n",
       "        vertical-align: middle;\n",
       "    }\n",
       "\n",
       "    .dataframe tbody tr th {\n",
       "        vertical-align: top;\n",
       "    }\n",
       "\n",
       "    .dataframe thead th {\n",
       "        text-align: right;\n",
       "    }\n",
       "</style>\n",
       "<table border=\"1\" class=\"dataframe\">\n",
       "  <thead>\n",
       "    <tr style=\"text-align: right;\">\n",
       "      <th></th>\n",
       "      <th>t_dat</th>\n",
       "      <th>customer_id</th>\n",
       "      <th>article_id</th>\n",
       "      <th>price</th>\n",
       "      <th>sales_channel_id</th>\n",
       "    </tr>\n",
       "  </thead>\n",
       "  <tbody>\n",
       "    <tr>\n",
       "      <th>4212358</th>\n",
       "      <td>2018-12-27</td>\n",
       "      <td>00000dbacae5abe5e23885899a1fa44253a17956c6d1c3...</td>\n",
       "      <td>625548001</td>\n",
       "      <td>0.044051</td>\n",
       "      <td>1</td>\n",
       "    </tr>\n",
       "    <tr>\n",
       "      <th>4212359</th>\n",
       "      <td>2018-12-27</td>\n",
       "      <td>00000dbacae5abe5e23885899a1fa44253a17956c6d1c3...</td>\n",
       "      <td>176209023</td>\n",
       "      <td>0.035576</td>\n",
       "      <td>1</td>\n",
       "    </tr>\n",
       "    <tr>\n",
       "      <th>4212360</th>\n",
       "      <td>2018-12-27</td>\n",
       "      <td>00000dbacae5abe5e23885899a1fa44253a17956c6d1c3...</td>\n",
       "      <td>627759010</td>\n",
       "      <td>0.030492</td>\n",
       "      <td>1</td>\n",
       "    </tr>\n",
       "    <tr>\n",
       "      <th>9663224</th>\n",
       "      <td>2019-05-02</td>\n",
       "      <td>00000dbacae5abe5e23885899a1fa44253a17956c6d1c3...</td>\n",
       "      <td>697138006</td>\n",
       "      <td>0.010153</td>\n",
       "      <td>2</td>\n",
       "    </tr>\n",
       "    <tr>\n",
       "      <th>10754876</th>\n",
       "      <td>2019-05-25</td>\n",
       "      <td>00000dbacae5abe5e23885899a1fa44253a17956c6d1c3...</td>\n",
       "      <td>568601006</td>\n",
       "      <td>0.050831</td>\n",
       "      <td>2</td>\n",
       "    </tr>\n",
       "  </tbody>\n",
       "</table>\n",
       "</div>"
      ],
      "text/plain": [
       "               t_dat                                        customer_id  \\\n",
       "4212358   2018-12-27  00000dbacae5abe5e23885899a1fa44253a17956c6d1c3...   \n",
       "4212359   2018-12-27  00000dbacae5abe5e23885899a1fa44253a17956c6d1c3...   \n",
       "4212360   2018-12-27  00000dbacae5abe5e23885899a1fa44253a17956c6d1c3...   \n",
       "9663224   2019-05-02  00000dbacae5abe5e23885899a1fa44253a17956c6d1c3...   \n",
       "10754876  2019-05-25  00000dbacae5abe5e23885899a1fa44253a17956c6d1c3...   \n",
       "\n",
       "          article_id     price  sales_channel_id  \n",
       "4212358    625548001  0.044051                 1  \n",
       "4212359    176209023  0.035576                 1  \n",
       "4212360    627759010  0.030492                 1  \n",
       "9663224    697138006  0.010153                 2  \n",
       "10754876   568601006  0.050831                 2  "
      ]
     },
     "execution_count": 8,
     "metadata": {},
     "output_type": "execute_result"
    }
   ],
   "source": [
    "train_rows.head()"
   ]
  },
  {
   "cell_type": "code",
   "execution_count": 9,
   "metadata": {},
   "outputs": [],
   "source": [
    "train_interaction_matrix = get_interaction_matrix(train_rows)"
   ]
  },
  {
   "cell_type": "code",
   "execution_count": 10,
   "metadata": {},
   "outputs": [],
   "source": [
    "interaction_matrix = train_interaction_matrix[\"interaction_matrix\"]\n",
    "user_id_map = train_interaction_matrix[\"user_id_map\"]\n",
    "item_id_map = train_interaction_matrix[\"item_id_map\"]"
   ]
  },
  {
   "cell_type": "code",
   "execution_count": 11,
   "metadata": {},
   "outputs": [
    {
     "name": "stdout",
     "output_type": "stream",
     "text": [
      "<class 'scipy.sparse._csr.csr_matrix'>\n",
      "<class 'dict'>\n",
      "<class 'dict'>\n"
     ]
    }
   ],
   "source": [
    "print(type(interaction_matrix))\n",
    "print(type(user_id_map))\n",
    "print(type(item_id_map))"
   ]
  },
  {
   "cell_type": "markdown",
   "metadata": {},
   "source": [
    "##### checking if the sparsity has change"
   ]
  },
  {
   "cell_type": "code",
   "execution_count": 12,
   "metadata": {},
   "outputs": [
    {
     "name": "stdout",
     "output_type": "stream",
     "text": [
      "Sparsity: 0.9998 (99.98%)\n"
     ]
    }
   ],
   "source": [
    "num_users, num_items = interaction_matrix.shape\n",
    "num_possible_interactions = num_users * num_items\n",
    "num_actual_interactions = interaction_matrix.nnz\n",
    "sparsity = 1 - (num_actual_interactions / num_possible_interactions)\n",
    "\n",
    "print(f\"Sparsity: {sparsity:.4f} ({sparsity*100:.2f}%)\")"
   ]
  },
  {
   "cell_type": "code",
   "execution_count": 13,
   "metadata": {},
   "outputs": [],
   "source": [
    "save_interaction_matrix('dataset/collaborative-filtering-data/interaction_matrix_loo.npz', interaction_matrix)\n",
    "json_save('dataset/collaborative-filtering-data/user_id_map_loo.json', user_id_map)\n",
    "json_save('dataset/collaborative-filtering-data/item_id_map_loo.json', item_id_map)"
   ]
  },
  {
   "cell_type": "markdown",
   "metadata": {},
   "source": [
    "#### Now lets train our model on the generated interaction matrix and see how our model perform"
   ]
  },
  {
   "cell_type": "code",
   "execution_count": 14,
   "metadata": {},
   "outputs": [],
   "source": [
    "interaction_matrix = load_npz(\"dataset/collaborative-filtering-data/interaction_matrix_loo.npz\")\n",
    "with open(\"dataset/collaborative-filtering-data/user_id_map_loo.json\") as f:\n",
    "\tuser_id_map = {int(k): v for k, v in json.load(f).items()}\n",
    "\n",
    "with open(\"dataset/collaborative-filtering-data/item_id_map_loo.json\") as f:\n",
    "\titem_id_map = {int(k): v for k, v in json.load(f).items()}"
   ]
  },
  {
   "cell_type": "code",
   "execution_count": 15,
   "metadata": {},
   "outputs": [
    {
     "name": "stderr",
     "output_type": "stream",
     "text": [
      "/home/slahlou/anaconda3/envs/genAI/lib/python3.12/site-packages/implicit/cpu/als.py:95: RuntimeWarning: Intel MKL BLAS is configured to use 8 threads. It is highly recommended to disable its internal threadpool by setting the environment variable 'MKL_NUM_THREADS=1' or by callng 'threadpoolctl.threadpool_limits(1, \"blas\")'. Having MKL use a threadpool can lead to severe performance issues\n",
      "  check_blas_config()\n"
     ]
    },
    {
     "data": {
      "application/vnd.jupyter.widget-view+json": {
       "model_id": "82232386f7e44acca6f59df7f8dc4b79",
       "version_major": 2,
       "version_minor": 0
      },
      "text/plain": [
       "  0%|          | 0/15 [00:00<?, ?it/s]"
      ]
     },
     "metadata": {},
     "output_type": "display_data"
    }
   ],
   "source": [
    "model = AlternatingLeastSquares(factors=64, regularization=0.05, alpha=2.0)\n",
    "model.fit(interaction_matrix)"
   ]
  },
  {
   "cell_type": "code",
   "execution_count": 16,
   "metadata": {},
   "outputs": [
    {
     "name": "stdout",
     "output_type": "stream",
     "text": [
      "0\n",
      "ids: [15911 15927 15912 16965 58312 16966 42415  6609 18498 66840]\n",
      "scores: [0.4132275  0.31898493 0.26439756 0.18125413 0.16386145 0.15594429\n",
      " 0.15402187 0.13101044 0.11816773 0.09811558]\n"
     ]
    }
   ],
   "source": [
    "userid = 0\n",
    "print(userid) \n",
    "ids, scores = model.recommend(userid, interaction_matrix[userid], N=10, filter_already_liked_items=True)\n",
    "print('ids:', ids)\n",
    "print('scores:', scores)"
   ]
  },
  {
   "cell_type": "code",
   "execution_count": 17,
   "metadata": {},
   "outputs": [],
   "source": [
    "def get_reindex_id(id_map, original_id):\n",
    "\tindex_id = [k for k, v in id_map.items() if v == original_id][0]\n",
    "\treturn index_id\n"
   ]
  },
  {
   "cell_type": "code",
   "execution_count": 18,
   "metadata": {},
   "outputs": [],
   "source": [
    "def hit_rate_at_k(model, train_matrix, test_rows, user_id_map, item_id_map, K=10):\n",
    "\thits = 0\n",
    "\ttotal = 0\n",
    "\ttotal_len = len(test_rows)\n",
    "\n",
    "\tfor idx, (_, row) in enumerate(test_rows.iterrows()):\n",
    "\t\ttry:\n",
    "\t\t\tuid = get_reindex_id(user_id_map, row[\"customer_id\"])\n",
    "\t\t\tiid = get_reindex_id(item_id_map, row[\"article_id\"])\n",
    "\n",
    "\t\t\trecommended, score = model.recommend(uid, train_matrix[uid], N=K, filter_already_liked_items=True)\n",
    "\t\t\trecommended_items = [item_id for item_id in recommended]\n",
    "\t\t\t\n",
    "\t\t\tif iid in recommended_items:\n",
    "\t\t\t\thits += 1\n",
    "\t\t\ttotal += 1\n",
    "\t\texcept IndexError as e:\n",
    "\t\t\tprint(\"LOG: customer_id or item_id not in train ds, skipping this row..\")\n",
    "\t\tif idx % 100 == 0:\n",
    "\t\t\tprint(f'LOG: {idx} / {total_len}')\n",
    "\n",
    "\treturn hits / total"
   ]
  },
  {
   "cell_type": "code",
   "execution_count": 29,
   "metadata": {},
   "outputs": [],
   "source": [
    "\n",
    "def get_reindex_ids_from_df(df, column_name, id_map):\n",
    "    index_ids = []\n",
    "    not_found = []\n",
    "\n",
    "    # Reverse the id_map for efficient value-to-key lookup\n",
    "    reverse_map = {v: k for k, v in id_map.items()}\n",
    "\n",
    "    for oid in df[column_name]:\n",
    "        if oid in reverse_map:\n",
    "            index_ids.append(reverse_map[oid])\n",
    "        else:\n",
    "            not_found.append(oid)\n",
    "\n",
    "    return index_ids, not_found\n",
    "\n",
    "def drop_missing_ids(df, column_name, id_map):\n",
    "    # Reverse the map for quick lookup\n",
    "    reverse_map = {v: k for k, v in id_map.items()}\n",
    "    \n",
    "    # Keep only rows where the original_id exists in the reverse_map\n",
    "    filtered_df = df[df[column_name].isin(reverse_map.keys())].copy()\n",
    "    \n",
    "    return filtered_df"
   ]
  },
  {
   "cell_type": "code",
   "execution_count": 34,
   "metadata": {},
   "outputs": [],
   "source": [
    "test_whitout_unseen = drop_missing_ids(test_rows, \"customer_id\", user_id_map)\n",
    "test_whitout_unseen = drop_missing_ids(test_whitout_unseen, \"article_id\", item_id_map)"
   ]
  },
  {
   "cell_type": "code",
   "execution_count": 35,
   "metadata": {},
   "outputs": [
    {
     "data": {
      "text/plain": [
       "1362281"
      ]
     },
     "execution_count": 35,
     "metadata": {},
     "output_type": "execute_result"
    }
   ],
   "source": [
    "len(test_rows)"
   ]
  },
  {
   "cell_type": "code",
   "execution_count": 36,
   "metadata": {},
   "outputs": [
    {
     "data": {
      "text/plain": [
       "1230430"
      ]
     },
     "execution_count": 36,
     "metadata": {},
     "output_type": "execute_result"
    }
   ],
   "source": [
    "len(test_whitout_unseen)"
   ]
  },
  {
   "cell_type": "code",
   "execution_count": 40,
   "metadata": {},
   "outputs": [],
   "source": [
    "micro_test_whitout_unseen = test_whitout_unseen[:5000]"
   ]
  },
  {
   "cell_type": "code",
   "execution_count": 41,
   "metadata": {},
   "outputs": [
    {
     "name": "stdout",
     "output_type": "stream",
     "text": [
      "LOG: 0 / 5000\n",
      "LOG: 100 / 5000\n",
      "LOG: 200 / 5000\n",
      "LOG: 300 / 5000\n",
      "LOG: 400 / 5000\n",
      "LOG: 500 / 5000\n",
      "LOG: 600 / 5000\n",
      "LOG: 700 / 5000\n",
      "LOG: 800 / 5000\n",
      "LOG: 900 / 5000\n",
      "LOG: 1000 / 5000\n",
      "LOG: 1100 / 5000\n",
      "LOG: 1200 / 5000\n",
      "LOG: 1300 / 5000\n",
      "LOG: 1400 / 5000\n",
      "LOG: 1500 / 5000\n",
      "LOG: 1600 / 5000\n",
      "LOG: 1700 / 5000\n",
      "LOG: 1800 / 5000\n",
      "LOG: 1900 / 5000\n",
      "LOG: 2000 / 5000\n",
      "LOG: 2100 / 5000\n",
      "LOG: 2200 / 5000\n",
      "LOG: 2300 / 5000\n",
      "LOG: 2400 / 5000\n",
      "LOG: 2500 / 5000\n",
      "LOG: 2600 / 5000\n",
      "LOG: 2700 / 5000\n",
      "LOG: 2800 / 5000\n",
      "LOG: 2900 / 5000\n",
      "LOG: 3000 / 5000\n",
      "LOG: 3100 / 5000\n",
      "LOG: 3200 / 5000\n",
      "LOG: 3300 / 5000\n",
      "LOG: 3400 / 5000\n",
      "LOG: 3500 / 5000\n",
      "LOG: 3600 / 5000\n",
      "LOG: 3700 / 5000\n",
      "LOG: 3800 / 5000\n",
      "LOG: 3900 / 5000\n",
      "LOG: 4000 / 5000\n",
      "LOG: 4100 / 5000\n",
      "LOG: 4200 / 5000\n",
      "LOG: 4300 / 5000\n",
      "LOG: 4400 / 5000\n",
      "LOG: 4500 / 5000\n",
      "LOG: 4600 / 5000\n",
      "LOG: 4700 / 5000\n",
      "LOG: 4800 / 5000\n",
      "LOG: 4900 / 5000\n"
     ]
    }
   ],
   "source": [
    "score = hit_rate_at_k(model, interaction_matrix, micro_test_whitout_unseen, user_id_map, item_id_map)"
   ]
  },
  {
   "cell_type": "code",
   "execution_count": 42,
   "metadata": {},
   "outputs": [
    {
     "name": "stdout",
     "output_type": "stream",
     "text": [
      "0.0384\n"
     ]
    }
   ],
   "source": [
    "print(score)"
   ]
  },
  {
   "cell_type": "code",
   "execution_count": null,
   "metadata": {},
   "outputs": [],
   "source": []
  }
 ],
 "metadata": {
  "kernelspec": {
   "display_name": "genAI",
   "language": "python",
   "name": "python3"
  },
  "language_info": {
   "codemirror_mode": {
    "name": "ipython",
    "version": 3
   },
   "file_extension": ".py",
   "mimetype": "text/x-python",
   "name": "python",
   "nbconvert_exporter": "python",
   "pygments_lexer": "ipython3",
   "version": "3.12.2"
  }
 },
 "nbformat": 4,
 "nbformat_minor": 2
}
